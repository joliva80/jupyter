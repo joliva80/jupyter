{
 "cells": [
  {
   "cell_type": "markdown",
   "metadata": {},
   "source": [
    "# Bing API Keyword Research Trends\n",
    "\n",
    "* https://www.bing.com/webmasters/help/keyword-research-628070b6\n",
    "* https://www.bing.com/webmasters\n",
    "* https://docs.microsoft.com/en-us/advertising/guides/get-started?view=bingads-13\n",
    "\n",
    "\n",
    "\n",
    "## User Access Tokens\n",
    "\n",
    "API Token = **f33a75d97ab845b1b1172c47690f6b33**\n"
   ]
  },
  {
   "cell_type": "markdown",
   "metadata": {},
   "source": [
    "## Access Bing Keyword Research Public Data"
   ]
  },
  {
   "cell_type": "code",
   "execution_count": 13,
   "metadata": {},
   "outputs": [
    {
     "name": "stdout",
     "output_type": "stream",
     "text": [
      "Collecting python-facebook-api\n",
      "  Downloading python_facebook_api-0.9.2-py2.py3-none-any.whl (51 kB)\n",
      "\u001b[K     |████████████████████████████████| 51 kB 502 kB/s eta 0:00:011\n",
      "\u001b[?25hCollecting cattrs<2.0,>=1.1\n",
      "  Downloading cattrs-1.7.1-py3-none-any.whl (22 kB)\n",
      "Requirement already satisfied: attrs<21.0.0,>=20.1.0 in /opt/anaconda3/lib/python3.8/site-packages (from python-facebook-api) (20.3.0)\n",
      "Requirement already satisfied: requests<3.0.0,>=2.24.0 in /opt/anaconda3/lib/python3.8/site-packages (from python-facebook-api) (2.24.0)\n",
      "Requirement already satisfied: requests-oauthlib<2.0.0,>=1.3.0 in /opt/anaconda3/lib/python3.8/site-packages (from python-facebook-api) (1.3.0)\n",
      "Collecting responses>=0.11\n",
      "  Downloading responses-0.13.3-py2.py3-none-any.whl (25 kB)\n",
      "Requirement already satisfied: certifi>=2017.4.17 in /opt/anaconda3/lib/python3.8/site-packages (from requests<3.0.0,>=2.24.0->python-facebook-api) (2020.6.20)\n",
      "Requirement already satisfied: urllib3!=1.25.0,!=1.25.1,<1.26,>=1.21.1 in /opt/anaconda3/lib/python3.8/site-packages (from requests<3.0.0,>=2.24.0->python-facebook-api) (1.25.11)\n",
      "Requirement already satisfied: chardet<4,>=3.0.2 in /opt/anaconda3/lib/python3.8/site-packages (from requests<3.0.0,>=2.24.0->python-facebook-api) (3.0.4)\n",
      "Requirement already satisfied: idna<3,>=2.5 in /opt/anaconda3/lib/python3.8/site-packages (from requests<3.0.0,>=2.24.0->python-facebook-api) (2.10)\n",
      "Requirement already satisfied: oauthlib>=3.0.0 in /opt/anaconda3/lib/python3.8/site-packages (from requests-oauthlib<2.0.0,>=1.3.0->python-facebook-api) (3.1.1)\n",
      "Requirement already satisfied: six in /opt/anaconda3/lib/python3.8/site-packages (from responses>=0.11->python-facebook-api) (1.15.0)\n",
      "Installing collected packages: responses, cattrs, python-facebook-api\n",
      "Successfully installed cattrs-1.7.1 python-facebook-api-0.9.2 responses-0.13.3\n",
      "\u001b[33mWARNING: You are using pip version 21.1.1; however, version 21.1.2 is available.\n",
      "You should consider upgrading via the '/opt/anaconda3/bin/python3.8 -m pip install --upgrade pip' command.\u001b[0m\n"
     ]
    }
   ],
   "source": [
    "# Install Bing\n",
    "#!python3.8 -m pip install facebook-sdk\n",
    "#!python3.8 -m pip install python-facebook-api"
   ]
  },
  {
   "cell_type": "code",
   "execution_count": 57,
   "metadata": {},
   "outputs": [],
   "source": [
    "'''\n",
    "IMPORTS\n",
    "'''\n",
    "import urllib3\n",
    "import facebook\n",
    "import requests\n",
    "import json\n",
    "from pyfacebook import Api"
   ]
  },
  {
   "cell_type": "code",
   "execution_count": 62,
   "metadata": {},
   "outputs": [],
   "source": [
    "'''\n",
    "GLOBAL ENVIRONMENT FACEBOOK VARIABLES\n",
    "'''\n",
    "ACCESS_TOKEN = 'EAAHvuj5nvxQBACTnEZCmgZCSPTyZAjxt1ZABeqjuknU5qGJghTPLGrMdTHjfCwJE4mhwMynZCIR8RQTAoVYocZALZCwTkWCglvZAFKAcMhwjyRHnunKStKZCvhDhdZBqS0Gvzksf7CZA6lj8fEl5MTZBvnwi6CaKxqhG6Jyb5yxNEzwpP5xAmyrQEVL5QK40NZBZBxym9SMS582C9o8AZDZD'\n",
    "MKT_TOKEN = 'EAAHvuj5nvxQBAOVs8bhjxpGRw3Cqs3NAORJsVVfZB9xdbr8d6Ao8mpVPpZBcpNWOGYiwWjJTm1twNBhLvzf1dHO7i5l5SJZA2pf89ZBNqMV92660K84QpOg6ZB42N1SAO3J1ScGIAtlpQHS1piLkroX0M55o1btTJge5tObaAbZCdZCHIn7BZAAl'\n",
    "APP_TOKEN = '545058166652692|NAeUHdQyFzaFibLEI5tvjAJQrWc'\n",
    "APP_ID = '545058166652692'\n",
    "APP_SECRET = '5f3d0aa104da1f58e34d367c08dfe866'\n",
    "APP_NAME = 'python-trend-search'\n",
    "TEST_USER_ID = '100911612233441'\n",
    "\n",
    "kw_list = ['energia+solar']\n",
    "\n",
    "# GraphQL API connection\n",
    "#graph = facebook.GraphAPI(access_token=user_token, version = 3.1)\n",
    "graph = facebook.GraphAPI(ACCESS_TOKEN)"
   ]
  },
  {
   "cell_type": "markdown",
   "metadata": {},
   "source": [
    "## Search for events"
   ]
  },
  {
   "cell_type": "code",
   "execution_count": null,
   "metadata": {},
   "outputs": [],
   "source": []
  },
  {
   "cell_type": "code",
   "execution_count": null,
   "metadata": {},
   "outputs": [],
   "source": []
  }
 ],
 "metadata": {
  "kernelspec": {
   "display_name": "Python 3",
   "language": "python",
   "name": "python3"
  },
  "language_info": {
   "codemirror_mode": {
    "name": "ipython",
    "version": 3
   },
   "file_extension": ".py",
   "mimetype": "text/x-python",
   "name": "python",
   "nbconvert_exporter": "python",
   "pygments_lexer": "ipython3",
   "version": "3.8.5"
  }
 },
 "nbformat": 4,
 "nbformat_minor": 4
}
