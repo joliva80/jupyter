{
 "cells": [
  {
   "cell_type": "markdown",
   "metadata": {},
   "source": [
    "# Analyse predicted peaks form merged Datasets from CSV\n",
    "\n",
    "* merged_search_trends_2021-06-22_095959.csv_peaks_prob.csv\n",
    "\n",
    "### Steps\n",
    "* 9 train again regression model for avg_interest ✅\n",
    "* 10 train again classification model for is_peak ✅\n",
    "* 11 Execute Classification with already trained model and current test data ✅\n",
    "\n",
    "\n",
    "### Tests\n",
    "\n",
    "* ✅ 44% predicció peaks a cada registre VS algoritme detecció peaks sobre tot el dataset\n",
    "* ⚠️ comparar historic ventes adWords de Nucli Solar vs predicció peaks (maig-juny) % coincidencia?\n",
    "* ⚠️ Applicacio python batch alertes sobre campaña si predicció de que estem en peak, avis per mail-telegram-integracioAPI… —> activacio campanya per 1 o 2 hores / pujar pressupost campanya 1 o 2 hores… durant el peak.\n",
    "* ⚠️ Millorar la predicció de peaks, ajustos parametres ¿?"
   ]
  },
  {
   "cell_type": "code",
   "execution_count": 51,
   "metadata": {},
   "outputs": [],
   "source": [
    "'''\n",
    "IMPORTS\n",
    "'''\n",
    "\n",
    "# General\n",
    "import pandas as pd\n",
    "import numpy as np\n",
    "from scipy.signal import find_peaks\n",
    "import matplotlib.pyplot as plt\n",
    "from datetime import datetime\n",
    "\n",
    "# Linear Regression\n",
    "from pytrends.request import TrendReq\n",
    "import matplotlib.pyplot as plt\n",
    "import plotly.graph_objects as go\n",
    "import scipy.signal\n",
    "from sklearn import linear_model\n",
    "from sklearn.metrics import r2_score\n",
    "\n",
    "# Logistic Regression (Churn classification)\n",
    "from sklearn.linear_model import LogisticRegression\n",
    "from sklearn.model_selection import train_test_split\n",
    "from sklearn import preprocessing\n",
    "from sklearn.linear_model import LogisticRegression\n",
    "from sklearn.metrics import confusion_matrix\n",
    "from sklearn.metrics import jaccard_score\n",
    "from sklearn.metrics import classification_report, confusion_matrix\n",
    "from sklearn.metrics import log_loss\n",
    "\n",
    "# SVM\n",
    "from sklearn import svm\n",
    "import itertools\n"
   ]
  },
  {
   "cell_type": "code",
   "execution_count": 5,
   "metadata": {},
   "outputs": [],
   "source": [
    "'''\n",
    "GLOBAL ENVIRONMENT TWITTER VARIABLES\n",
    "'''\n",
    "directory = \"/Users/joan/Workspace/python/py-trends-api/\"\n",
    "base_name_merged = 'merged_search_trends_2021-06-22_095959.csv_peaks_prob.csv'\n"
   ]
  },
  {
   "cell_type": "code",
   "execution_count": 6,
   "metadata": {},
   "outputs": [],
   "source": [
    "# Load CSV file\n",
    "df = pd.read_csv(directory+base_name_merged)"
   ]
  },
  {
   "cell_type": "markdown",
   "metadata": {},
   "source": [
    "## 9 Train again regression model for avg_interest"
   ]
  },
  {
   "cell_type": "code",
   "execution_count": 11,
   "metadata": {},
   "outputs": [],
   "source": [
    "# Test and Train dataset\n",
    "msk = np.random.rand(len(df)) < 0.3\n",
    "train = df[msk]\n",
    "test = df[~msk]"
   ]
  },
  {
   "cell_type": "code",
   "execution_count": 12,
   "metadata": {},
   "outputs": [
    {
     "name": "stdout",
     "output_type": "stream",
     "text": [
      "Coefficients:  [[0.45984481]]\n"
     ]
    },
    {
     "data": {
      "text/plain": [
       "Text(0, 0.5, 'avg_interest')"
      ]
     },
     "execution_count": 12,
     "metadata": {},
     "output_type": "execute_result"
    },
    {
     "data": {
      "image/png": "[encoded data removed]",
      "text/plain": [
       "<Figure size 432x288 with 1 Axes>"
      ]
     },
     "metadata": {
      "needs_background": "light"
     },
     "output_type": "display_data"
    }
   ],
   "source": [
    "# model train and fit parameters\n",
    "regr = linear_model.LinearRegression()\n",
    "x = np.asanyarray(train[['energia solar']]) \n",
    "y = np.asanyarray(train[['avg_interest']])\n",
    "regr.fit (x, y)\n",
    "\n",
    "# The coefficients\n",
    "print ('Coefficients: ', regr.coef_)\n",
    "\n",
    "plt.scatter(train['energia solar'], train.avg_interest,  color='blue')\n",
    "plt.plot(x, regr.coef_[0][0]*x + regr.intercept_[0], '-r')\n",
    "plt.xlabel(\"keywords average\")\n",
    "plt.ylabel(\"avg_interest\")"
   ]
  },
  {
   "cell_type": "code",
   "execution_count": 13,
   "metadata": {},
   "outputs": [
    {
     "name": "stdout",
     "output_type": "stream",
     "text": [
      "Mean absolute error: 2.55\n",
      "Residual sum of squares (MSE): 11.42\n",
      "R2-score: 0.48\n"
     ]
    }
   ],
   "source": [
    "# Accuracy error\n",
    "test_x = np.asanyarray(test[['energia solar']])\n",
    "test_y = np.asanyarray(test[['avg_interest']])\n",
    "\n",
    "test_y_hat = regr.predict(test_x)\n",
    "\n",
    "print(\"Mean absolute error: %.2f\" % np.mean(np.absolute(test_y_hat - test_y)))\n",
    "print(\"Residual sum of squares (MSE): %.2f\" % np.mean((test_y_hat - test_y) ** 2))\n",
    "print(\"R2-score: %.2f\" % r2_score(test_y , test_y_hat) )"
   ]
  },
  {
   "cell_type": "code",
   "execution_count": 16,
   "metadata": {},
   "outputs": [
    {
     "name": "stdout",
     "output_type": "stream",
     "text": [
      "Coefficients:  [[0.24994372 0.24985456]]\n"
     ]
    }
   ],
   "source": [
    "# Train Regression MULTI\n",
    "regr = linear_model.LinearRegression()\n",
    "x = np.asanyarray(train[['placas solares','energia solar']]) \n",
    "y = np.asanyarray(train[['avg_interest']])\n",
    "regr.fit (x, y)\n",
    "\n",
    "# The coefficients\n",
    "print ('Coefficients: ', regr.coef_)"
   ]
  },
  {
   "cell_type": "code",
   "execution_count": 18,
   "metadata": {},
   "outputs": [
    {
     "name": "stdout",
     "output_type": "stream",
     "text": [
      "Residual sum of squares: 0.00\n",
      "Variance score: 1.00\n",
      "Mean absolute error: 0.01\n",
      "Residual sum of squares (MSE): 0.00\n",
      "R2-score: 1.00\n"
     ]
    }
   ],
   "source": [
    "# Accuracy Regression MULTI\n",
    "\n",
    "y_hat= regr.predict(test[['placas solares','energia solar']])\n",
    "\n",
    "x = np.asanyarray(test[['placas solares','energia solar']])\n",
    "y = np.asanyarray(test[['avg_interest']])\n",
    "print(\"Residual sum of squares: %.2f\"  % np.mean((y_hat - y) ** 2))\n",
    "\n",
    "# Explained variance score: 1 is perfect prediction\n",
    "print('Variance score: %.2f' % regr.score(x, y))\n",
    "\n",
    "print(\"Mean absolute error: %.2f\" % np.mean(np.absolute(y_hat - test_y)))\n",
    "print(\"Residual sum of squares (MSE): %.2f\" % np.mean((y_hat - test_y) ** 2))\n",
    "print(\"R2-score: %.2f\" % r2_score(test_y , y_hat) )"
   ]
  },
  {
   "cell_type": "markdown",
   "metadata": {},
   "source": [
    "## 10 train again Logistic Regression classification model for is_peak\n",
    "\n"
   ]
  },
  {
   "cell_type": "code",
   "execution_count": 19,
   "metadata": {},
   "outputs": [
    {
     "data": {
      "text/plain": [
       "array([[-0.05681146, -1.38489182, -1.58211529, -1.64439387, -1.44528557,\n",
       "        -2.07560698, -2.08166069, -2.17692209],\n",
       "       [-0.05681146, -1.38489182, -1.58211529, -1.50167592, -0.69673449,\n",
       "        -2.21168246, -2.21802039, -2.01435354],\n",
       "       [-0.05681146, -1.38489182, -1.58211529, -1.35895798,  0.80036767,\n",
       "        -1.46326735, -1.46804201, -0.87637374],\n",
       "       [-0.05681146, -1.38489182, -1.58211529, -1.21624003,  0.05181659,\n",
       "        -2.14364472, -2.14984054, -1.68921646],\n",
       "       [-0.05681146, -1.38489182, -1.58211529, -1.07352209,  0.95007789,\n",
       "        -0.71485225, -0.71806363, -0.22609957]])"
      ]
     },
     "execution_count": 19,
     "metadata": {},
     "output_type": "execute_result"
    }
   ],
   "source": [
    "# Lets define X, and y for our dataset:\n",
    "#X = np.asarray(df[['energia solar','placas solares','max_interest','avg_interest']])\n",
    "X = np.asarray(df[['year','month','day','hour','energia solar','placas solares','max_interest','avg_interest']])\n",
    "X[0:5]\n",
    "y = np.asarray(df['is_peak'])\n",
    "y [0:5]\n",
    "\n",
    "# Also, we normalize the dataset:\n",
    "X = preprocessing.StandardScaler().fit(X).transform(X)\n",
    "X[0:5]"
   ]
  },
  {
   "cell_type": "code",
   "execution_count": 20,
   "metadata": {},
   "outputs": [
    {
     "data": {
      "text/plain": [
       "array([[-0.05681146, -1.38489182, -1.58211529, -1.64439387, -1.44528557,\n",
       "        -2.07560698, -2.08166069, -2.17692209],\n",
       "       [-0.05681146, -1.38489182, -1.58211529, -1.50167592, -0.69673449,\n",
       "        -2.21168246, -2.21802039, -2.01435354],\n",
       "       [-0.05681146, -1.38489182, -1.58211529, -1.35895798,  0.80036767,\n",
       "        -1.46326735, -1.46804201, -0.87637374],\n",
       "       [-0.05681146, -1.38489182, -1.58211529, -1.21624003,  0.05181659,\n",
       "        -2.14364472, -2.14984054, -1.68921646],\n",
       "       [-0.05681146, -1.38489182, -1.58211529, -1.07352209,  0.95007789,\n",
       "        -0.71485225, -0.71806363, -0.22609957]])"
      ]
     },
     "execution_count": 20,
     "metadata": {},
     "output_type": "execute_result"
    }
   ],
   "source": [
    "X[0:5]"
   ]
  },
  {
   "cell_type": "code",
   "execution_count": 21,
   "metadata": {},
   "outputs": [
    {
     "name": "stdout",
     "output_type": "stream",
     "text": [
      "Train set: (2238, 8) (2238,)\n",
      "Test set: (1492, 8) (1492,)\n"
     ]
    }
   ],
   "source": [
    "# Train and test Dataset\n",
    "X_train, X_test, y_train, y_test = train_test_split( X, y, test_size=0.4, random_state=4)\n",
    "print ('Train set:', X_train.shape,  y_train.shape)\n",
    "print ('Test set:', X_test.shape,  y_test.shape)"
   ]
  },
  {
   "cell_type": "code",
   "execution_count": 22,
   "metadata": {},
   "outputs": [
    {
     "data": {
      "text/plain": [
       "array([[-0.05681146,  1.50126668, -1.1156839 , ..., -0.03447489,\n",
       "        -0.0362651 , -0.55123666],\n",
       "       [-0.05681146,  1.50126668,  0.7500417 , ..., -0.91896546,\n",
       "        -0.92260319, -1.0931318 ],\n",
       "       [-0.05681146, -0.80766012, -0.76586035, ...,  2.14273268,\n",
       "         2.14549019,  1.941481  ],\n",
       "       ...,\n",
       "       [-0.05681146,  1.50126668,  0.16700245, ...,  0.3057138 ,\n",
       "         0.30463416,  0.47836411],\n",
       "       [-0.05681146, -0.23042842,  1.09986524, ...,  0.37375153,\n",
       "         0.37281402, -0.44285763],\n",
       "       [-0.05681146,  0.92403498,  1.21647309, ..., -0.4427013 ,\n",
       "        -0.44534422, -0.82218423]])"
      ]
     },
     "execution_count": 22,
     "metadata": {},
     "output_type": "execute_result"
    }
   ],
   "source": [
    "X_test"
   ]
  },
  {
   "cell_type": "code",
   "execution_count": 23,
   "metadata": {},
   "outputs": [],
   "source": [
    "# Fit coeficients and variables\n",
    "LR = LogisticRegression(C=0.1, solver='liblinear').fit(X_train,y_train)\n",
    "LRyhat = LR.predict(X_test)"
   ]
  },
  {
   "cell_type": "code",
   "execution_count": 24,
   "metadata": {},
   "outputs": [
    {
     "data": {
      "text/plain": [
       "array([0, 0, 0, ..., 0, 0, 0])"
      ]
     },
     "execution_count": 24,
     "metadata": {},
     "output_type": "execute_result"
    }
   ],
   "source": [
    "# Now we can predict categorical classification using our test set:\n",
    "yhat = LR.predict(X_test)\n",
    "yhat"
   ]
  },
  {
   "cell_type": "code",
   "execution_count": 25,
   "metadata": {},
   "outputs": [
    {
     "data": {
      "text/plain": [
       "array([[0.98499361, 0.01500639],\n",
       "       [0.97435986, 0.02564014],\n",
       "       [0.66419635, 0.33580365],\n",
       "       ...,\n",
       "       [0.85997931, 0.14002069],\n",
       "       [0.93921443, 0.06078557],\n",
       "       [0.99303214, 0.00696786]])"
      ]
     },
     "execution_count": 25,
     "metadata": {},
     "output_type": "execute_result"
    }
   ],
   "source": [
    "# predict_proba returns estimates for all classes, ordered by the label of classes. \n",
    "# So, the first column is the probability of class 0, P(Y=0|X), and second column is probability of class 1, P(Y=1|X):\n",
    "yhat_prob = LR.predict_proba(X_test)\n",
    "yhat_prob"
   ]
  },
  {
   "cell_type": "code",
   "execution_count": 26,
   "metadata": {},
   "outputs": [
    {
     "data": {
      "text/plain": [
       "0.3597560975609756"
      ]
     },
     "execution_count": 26,
     "metadata": {},
     "output_type": "execute_result"
    }
   ],
   "source": [
    "# Evaluation\n",
    "# Jaccard\n",
    "jaccard_score(y_test, yhat,pos_label=1)"
   ]
  },
  {
   "cell_type": "code",
   "execution_count": 27,
   "metadata": {},
   "outputs": [
    {
     "name": "stdout",
     "output_type": "stream",
     "text": [
      "[[  59   92]\n",
      " [  13 1328]]\n"
     ]
    }
   ],
   "source": [
    "# Evaluation\n",
    "# Confusion Matrix\n",
    "import itertools\n",
    "def plot_confusion_matrix(cm, classes,\n",
    "                          normalize=False,\n",
    "                          title='Confusion matrix',\n",
    "                          cmap=plt.cm.Blues):\n",
    "    \"\"\"\n",
    "    This function prints and plots the confusion matrix.\n",
    "    Normalization can be applied by setting `normalize=True`.\n",
    "    \"\"\"\n",
    "    if normalize:\n",
    "        cm = cm.astype('float') / cm.sum(axis=1)[:, np.newaxis]\n",
    "        print(\"Normalized confusion matrix\")\n",
    "    else:\n",
    "        print('Confusion matrix, without normalization')\n",
    "\n",
    "    print(cm)\n",
    "\n",
    "    plt.imshow(cm, interpolation='nearest', cmap=cmap)\n",
    "    plt.title(title)\n",
    "    plt.colorbar()\n",
    "    tick_marks = np.arange(len(classes))\n",
    "    plt.xticks(tick_marks, classes, rotation=45)\n",
    "    plt.yticks(tick_marks, classes)\n",
    "\n",
    "    fmt = '.2f' if normalize else 'd'\n",
    "    thresh = cm.max() / 2.\n",
    "    for i, j in itertools.product(range(cm.shape[0]), range(cm.shape[1])):\n",
    "        plt.text(j, i, format(cm[i, j], fmt),\n",
    "                 horizontalalignment=\"center\",\n",
    "                 color=\"white\" if cm[i, j] > thresh else \"black\")\n",
    "\n",
    "    plt.tight_layout()\n",
    "    plt.ylabel('True label')\n",
    "    plt.xlabel('Predicted label')\n",
    "print(confusion_matrix(y_test, yhat, labels=[1,0]))"
   ]
  },
  {
   "cell_type": "code",
   "execution_count": 28,
   "metadata": {},
   "outputs": [
    {
     "name": "stdout",
     "output_type": "stream",
     "text": [
      "Confusion matrix, without normalization\n",
      "[[  59   92]\n",
      " [  13 1328]]\n"
     ]
    },
    {
     "data": {
      "image/png": "[encoded data removed]",
      "text/plain": [
       "<Figure size 432x288 with 2 Axes>"
      ]
     },
     "metadata": {
      "needs_background": "light"
     },
     "output_type": "display_data"
    }
   ],
   "source": [
    "# Compute confusion matrix\n",
    "cnf_matrix = confusion_matrix(y_test, yhat, labels=[1,0])\n",
    "np.set_printoptions(precision=2)\n",
    "\n",
    "# Plot non-normalized confusion matrix\n",
    "plt.figure()\n",
    "plot_confusion_matrix(cnf_matrix, classes=['is_peak=1','is_peak=0'],normalize= False,  title='Confusion matrix')"
   ]
  },
  {
   "cell_type": "code",
   "execution_count": 29,
   "metadata": {},
   "outputs": [
    {
     "name": "stdout",
     "output_type": "stream",
     "text": [
      "              precision    recall  f1-score   support\n",
      "\n",
      "           0       0.94      0.99      0.96      1341\n",
      "           1       0.82      0.39      0.53       151\n",
      "\n",
      "    accuracy                           0.93      1492\n",
      "   macro avg       0.88      0.69      0.75      1492\n",
      "weighted avg       0.92      0.93      0.92      1492\n",
      "\n"
     ]
    }
   ],
   "source": [
    "print (classification_report(y_test, yhat))"
   ]
  },
  {
   "cell_type": "code",
   "execution_count": 30,
   "metadata": {},
   "outputs": [
    {
     "data": {
      "text/plain": [
       "0.2063320417076525"
      ]
     },
     "execution_count": 30,
     "metadata": {},
     "output_type": "execute_result"
    }
   ],
   "source": [
    "# Log loss\n",
    "# from sklearn.metrics import log_loss\n",
    "log_loss(y_test, yhat_prob)"
   ]
  },
  {
   "cell_type": "markdown",
   "metadata": {},
   "source": [
    "## 10.2 SVM classification model for is_peak"
   ]
  },
  {
   "cell_type": "code",
   "execution_count": 39,
   "metadata": {},
   "outputs": [
    {
     "data": {
      "text/html": [
       "<div>\n",
       "<style scoped>\n",
       "    .dataframe tbody tr th:only-of-type {\n",
       "        vertical-align: middle;\n",
       "    }\n",
       "\n",
       "    .dataframe tbody tr th {\n",
       "        vertical-align: top;\n",
       "    }\n",
       "\n",
       "    .dataframe thead th {\n",
       "        text-align: right;\n",
       "    }\n",
       "</style>\n",
       "<table border=\"1\" class=\"dataframe\">\n",
       "  <thead>\n",
       "    <tr style=\"text-align: right;\">\n",
       "      <th></th>\n",
       "      <th>date</th>\n",
       "      <th>energia solar</th>\n",
       "      <th>placas solares</th>\n",
       "      <th>year</th>\n",
       "      <th>month</th>\n",
       "      <th>day</th>\n",
       "      <th>hour</th>\n",
       "      <th>min_interest</th>\n",
       "      <th>max_interest</th>\n",
       "      <th>google_interest</th>\n",
       "      <th>is_peak</th>\n",
       "      <th>twitter_interest</th>\n",
       "      <th>avg_interest</th>\n",
       "      <th>is_peak_prob2</th>\n",
       "      <th>is_peak_prob</th>\n",
       "    </tr>\n",
       "  </thead>\n",
       "  <tbody>\n",
       "    <tr>\n",
       "      <th>0</th>\n",
       "      <td>2021-01-01 00:00:00</td>\n",
       "      <td>4.0</td>\n",
       "      <td>20.0</td>\n",
       "      <td>2021</td>\n",
       "      <td>1</td>\n",
       "      <td>1</td>\n",
       "      <td>0</td>\n",
       "      <td>4.0</td>\n",
       "      <td>20.0</td>\n",
       "      <td>12.0</td>\n",
       "      <td>0</td>\n",
       "      <td>0.0</td>\n",
       "      <td>6.00</td>\n",
       "      <td>0.0</td>\n",
       "      <td>0</td>\n",
       "    </tr>\n",
       "    <tr>\n",
       "      <th>1</th>\n",
       "      <td>2021-01-01 01:00:00</td>\n",
       "      <td>9.0</td>\n",
       "      <td>18.0</td>\n",
       "      <td>2021</td>\n",
       "      <td>1</td>\n",
       "      <td>1</td>\n",
       "      <td>1</td>\n",
       "      <td>9.0</td>\n",
       "      <td>18.0</td>\n",
       "      <td>13.5</td>\n",
       "      <td>0</td>\n",
       "      <td>0.0</td>\n",
       "      <td>6.75</td>\n",
       "      <td>0.0</td>\n",
       "      <td>0</td>\n",
       "    </tr>\n",
       "    <tr>\n",
       "      <th>2</th>\n",
       "      <td>2021-01-01 02:00:00</td>\n",
       "      <td>19.0</td>\n",
       "      <td>29.0</td>\n",
       "      <td>2021</td>\n",
       "      <td>1</td>\n",
       "      <td>1</td>\n",
       "      <td>2</td>\n",
       "      <td>19.0</td>\n",
       "      <td>29.0</td>\n",
       "      <td>24.0</td>\n",
       "      <td>0</td>\n",
       "      <td>0.0</td>\n",
       "      <td>12.00</td>\n",
       "      <td>0.0</td>\n",
       "      <td>0</td>\n",
       "    </tr>\n",
       "    <tr>\n",
       "      <th>3</th>\n",
       "      <td>2021-01-01 03:00:00</td>\n",
       "      <td>14.0</td>\n",
       "      <td>19.0</td>\n",
       "      <td>2021</td>\n",
       "      <td>1</td>\n",
       "      <td>1</td>\n",
       "      <td>3</td>\n",
       "      <td>14.0</td>\n",
       "      <td>19.0</td>\n",
       "      <td>16.5</td>\n",
       "      <td>0</td>\n",
       "      <td>0.0</td>\n",
       "      <td>8.25</td>\n",
       "      <td>0.0</td>\n",
       "      <td>0</td>\n",
       "    </tr>\n",
       "    <tr>\n",
       "      <th>4</th>\n",
       "      <td>2021-01-01 04:00:00</td>\n",
       "      <td>20.0</td>\n",
       "      <td>40.0</td>\n",
       "      <td>2021</td>\n",
       "      <td>1</td>\n",
       "      <td>1</td>\n",
       "      <td>4</td>\n",
       "      <td>20.0</td>\n",
       "      <td>40.0</td>\n",
       "      <td>30.0</td>\n",
       "      <td>0</td>\n",
       "      <td>0.0</td>\n",
       "      <td>15.00</td>\n",
       "      <td>0.0</td>\n",
       "      <td>0</td>\n",
       "    </tr>\n",
       "  </tbody>\n",
       "</table>\n",
       "</div>"
      ],
      "text/plain": [
       "                  date  energia solar  placas solares  year  month  day  hour  \\\n",
       "0  2021-01-01 00:00:00            4.0            20.0  2021      1    1     0   \n",
       "1  2021-01-01 01:00:00            9.0            18.0  2021      1    1     1   \n",
       "2  2021-01-01 02:00:00           19.0            29.0  2021      1    1     2   \n",
       "3  2021-01-01 03:00:00           14.0            19.0  2021      1    1     3   \n",
       "4  2021-01-01 04:00:00           20.0            40.0  2021      1    1     4   \n",
       "\n",
       "   min_interest  max_interest  google_interest  is_peak  twitter_interest  \\\n",
       "0           4.0          20.0             12.0        0               0.0   \n",
       "1           9.0          18.0             13.5        0               0.0   \n",
       "2          19.0          29.0             24.0        0               0.0   \n",
       "3          14.0          19.0             16.5        0               0.0   \n",
       "4          20.0          40.0             30.0        0               0.0   \n",
       "\n",
       "   avg_interest  is_peak_prob2  is_peak_prob  \n",
       "0          6.00            0.0             0  \n",
       "1          6.75            0.0             0  \n",
       "2         12.00            0.0             0  \n",
       "3          8.25            0.0             0  \n",
       "4         15.00            0.0             0  "
      ]
     },
     "execution_count": 39,
     "metadata": {},
     "output_type": "execute_result"
    }
   ],
   "source": [
    "df.head()"
   ]
  },
  {
   "cell_type": "code",
   "execution_count": 46,
   "metadata": {},
   "outputs": [
    {
     "data": {
      "image/png": "[encoded data removed]",
      "text/plain": [
       "<Figure size 432x288 with 1 Axes>"
      ]
     },
     "metadata": {
      "needs_background": "light"
     },
     "output_type": "display_data"
    }
   ],
   "source": [
    "ax = df[df['is_peak'] == 1][0:50].plot(kind='scatter', x='avg_interest', y='max_interest', color='DarkBlue', label='peak');\n",
    "df[df['is_peak'] == 0][0:50].plot(kind='scatter', x='avg_interest', y='max_interest', color='Yellow', label='no_peak', ax=ax);\n",
    "plt.show()"
   ]
  },
  {
   "cell_type": "code",
   "execution_count": 43,
   "metadata": {},
   "outputs": [
    {
     "data": {
      "text/plain": [
       "date                 object\n",
       "energia solar       float64\n",
       "placas solares      float64\n",
       "year                  int64\n",
       "month                 int64\n",
       "day                   int64\n",
       "hour                  int64\n",
       "min_interest        float64\n",
       "max_interest        float64\n",
       "google_interest     float64\n",
       "is_peak               int64\n",
       "twitter_interest    float64\n",
       "avg_interest        float64\n",
       "is_peak_prob2       float64\n",
       "is_peak_prob          int64\n",
       "dtype: object"
      ]
     },
     "execution_count": 43,
     "metadata": {},
     "output_type": "execute_result"
    }
   ],
   "source": [
    "df.dtypes"
   ]
  },
  {
   "cell_type": "code",
   "execution_count": 47,
   "metadata": {},
   "outputs": [
    {
     "name": "stdout",
     "output_type": "stream",
     "text": [
      "Train set: (2984, 8) (2984,)\n",
      "Test set: (746, 8) (746,)\n"
     ]
    }
   ],
   "source": [
    "# Train / Test dataset\n",
    "feature_df = df[['year','month','day','hour','energia solar','placas solares','max_interest','avg_interest']]\n",
    "X = np.asarray(feature_df)\n",
    "X[0:5]\n",
    "\n",
    "y = np.asarray(df['is_peak'])\n",
    "y [0:5]\n",
    "\n",
    "X_train, X_test, y_train, y_test = train_test_split( X, y, test_size=0.2, random_state=4)\n",
    "print ('Train set:', X_train.shape,  y_train.shape)\n",
    "print ('Test set:', X_test.shape,  y_test.shape)"
   ]
  },
  {
   "cell_type": "code",
   "execution_count": 49,
   "metadata": {},
   "outputs": [
    {
     "data": {
      "text/plain": [
       "SVC()"
      ]
     },
     "execution_count": 49,
     "metadata": {},
     "output_type": "execute_result"
    }
   ],
   "source": [
    "# Training model\n",
    "clf = svm.SVC(kernel='rbf')\n",
    "clf.fit(X_train, y_train) "
   ]
  },
  {
   "cell_type": "code",
   "execution_count": 50,
   "metadata": {},
   "outputs": [
    {
     "data": {
      "text/plain": [
       "array([0, 0, 0, 0, 0])"
      ]
     },
     "execution_count": 50,
     "metadata": {},
     "output_type": "execute_result"
    }
   ],
   "source": [
    "# Predict peaks\n",
    "# After being fitted, the model can then be used to predict new values:\n",
    "yhat = clf.predict(X_test)\n",
    "yhat [0:5]"
   ]
  },
  {
   "cell_type": "code",
   "execution_count": 52,
   "metadata": {},
   "outputs": [],
   "source": [
    "def plot_confusion_matrix(cm, classes,\n",
    "                          normalize=False,\n",
    "                          title='Confusion matrix',\n",
    "                          cmap=plt.cm.Blues):\n",
    "    \"\"\"\n",
    "    This function prints and plots the confusion matrix.\n",
    "    Normalization can be applied by setting `normalize=True`.\n",
    "    \"\"\"\n",
    "    if normalize:\n",
    "        cm = cm.astype('float') / cm.sum(axis=1)[:, np.newaxis]\n",
    "        print(\"Normalized confusion matrix\")\n",
    "    else:\n",
    "        print('Confusion matrix, without normalization')\n",
    "\n",
    "    print(cm)\n",
    "\n",
    "    plt.imshow(cm, interpolation='nearest', cmap=cmap)\n",
    "    plt.title(title)\n",
    "    plt.colorbar()\n",
    "    tick_marks = np.arange(len(classes))\n",
    "    plt.xticks(tick_marks, classes, rotation=45)\n",
    "    plt.yticks(tick_marks, classes)\n",
    "\n",
    "    fmt = '.2f' if normalize else 'd'\n",
    "    thresh = cm.max() / 2.\n",
    "    for i, j in itertools.product(range(cm.shape[0]), range(cm.shape[1])):\n",
    "        plt.text(j, i, format(cm[i, j], fmt),\n",
    "                 horizontalalignment=\"center\",\n",
    "                 color=\"white\" if cm[i, j] > thresh else \"black\")\n",
    "\n",
    "    plt.tight_layout()\n",
    "    plt.ylabel('True label')\n",
    "    plt.xlabel('Predicted label')"
   ]
  },
  {
   "cell_type": "code",
   "execution_count": 55,
   "metadata": {},
   "outputs": [
    {
     "name": "stdout",
     "output_type": "stream",
     "text": [
      "Confusion matrix, without normalization\n",
      "[[  0  83]\n",
      " [  0 663]]\n"
     ]
    },
    {
     "data": {
      "image/png": "[encoded data removed]",
      "text/plain": [
       "<Figure size 432x288 with 2 Axes>"
      ]
     },
     "metadata": {
      "needs_background": "light"
     },
     "output_type": "display_data"
    }
   ],
   "source": [
    "# Compute confusion matrix\n",
    "cnf_matrix = confusion_matrix(y_test, yhat, labels=[1,0])\n",
    "np.set_printoptions(precision=2)\n",
    "\n",
    "# Plot non-normalized confusion matrix\n",
    "plt.figure()\n",
    "plot_confusion_matrix(cnf_matrix, classes=['is_peak=1','is_peak=0'],normalize= False,  title='Confusion matrix')"
   ]
  },
  {
   "cell_type": "code",
   "execution_count": 56,
   "metadata": {},
   "outputs": [],
   "source": [
    "# IS NOT THE CASE FOR SVM"
   ]
  },
  {
   "cell_type": "code",
   "execution_count": null,
   "metadata": {},
   "outputs": [],
   "source": []
  },
  {
   "cell_type": "markdown",
   "metadata": {},
   "source": [
    "## 11 Execute Classification with already trained model and current test data\n",
    "\n",
    "This is based on having pre-loaded the CSV files from yesterday and trained a prediction model with it. And then to get current updated data to predict its peaks with the already trained model.\n",
    "**This is possible by loading into Dataset df the current merged file without re-instantiate the already existing LogisticRegression module variable.**"
   ]
  },
  {
   "cell_type": "code",
   "execution_count": 31,
   "metadata": {},
   "outputs": [
    {
     "data": {
      "text/plain": [
       "array([[-0.06, -1.38, -1.58, -1.64, -1.45, -2.08, -2.08, -2.18],\n",
       "       [-0.06, -1.38, -1.58, -1.5 , -0.7 , -2.21, -2.22, -2.01],\n",
       "       [-0.06, -1.38, -1.58, -1.36,  0.8 , -1.46, -1.47, -0.88],\n",
       "       [-0.06, -1.38, -1.58, -1.22,  0.05, -2.14, -2.15, -1.69],\n",
       "       [-0.06, -1.38, -1.58, -1.07,  0.95, -0.71, -0.72, -0.23]])"
      ]
     },
     "execution_count": 31,
     "metadata": {},
     "output_type": "execute_result"
    }
   ],
   "source": [
    "# A. Set to compare pre-loaded with current\n",
    "X_current = np.asarray(df[['year','month','day','hour','energia solar','placas solares','max_interest','avg_interest']])\n",
    "X_current[0:5]\n",
    "\n",
    "# Also, we normalize the dataset:\n",
    "X_current = preprocessing.StandardScaler().fit(X_current).transform(X_current)\n",
    "X_current[0:5]"
   ]
  },
  {
   "cell_type": "code",
   "execution_count": 32,
   "metadata": {},
   "outputs": [
    {
     "name": "stdout",
     "output_type": "stream",
     "text": [
      "Train set: (2611, 8) (2611,)\n",
      "Test set: (1119, 8) (1119,)\n"
     ]
    }
   ],
   "source": [
    "# A. Train and test Dataset\n",
    "X_train, X_test, y_train, y_test = train_test_split( X_current, y, test_size=0.3, random_state=4)\n",
    "print ('Train set:', X_train.shape,  y_train.shape)\n",
    "print ('Test set:', X_test.shape,  y_test.shape)"
   ]
  },
  {
   "cell_type": "code",
   "execution_count": 33,
   "metadata": {},
   "outputs": [],
   "source": [
    "# A. Fit coeficients\n",
    "LR = LogisticRegression(C=0.1, solver='liblinear').fit(X_train,y_train)\n",
    "LRyhat = LR.predict(X_test)"
   ]
  },
  {
   "cell_type": "code",
   "execution_count": 34,
   "metadata": {},
   "outputs": [
    {
     "data": {
      "text/plain": [
       "array([0, 0, 0, ..., 0, 0, 0])"
      ]
     },
     "execution_count": 34,
     "metadata": {},
     "output_type": "execute_result"
    }
   ],
   "source": [
    "# A. Now we can predict using our test set:\n",
    "yhat_current = LR.predict(X_current)\n",
    "yhat_current"
   ]
  },
  {
   "cell_type": "code",
   "execution_count": 35,
   "metadata": {},
   "outputs": [
    {
     "data": {
      "text/plain": [
       "array([[0.99, 0.01],\n",
       "       [0.99, 0.01],\n",
       "       [0.97, 0.03],\n",
       "       ...,\n",
       "       [0.89, 0.11],\n",
       "       [0.93, 0.07],\n",
       "       [0.93, 0.07]])"
      ]
     },
     "execution_count": 35,
     "metadata": {},
     "output_type": "execute_result"
    }
   ],
   "source": [
    "# A. predict_proba returns estimates for all classes, ordered by the label of classes. \n",
    "# So, the first column is the probability of class 0, P(Y=0|X), and second column is probability of class 1, P(Y=1|X):\n",
    "yhat_prob_current = LR.predict_proba(X_current)\n",
    "yhat_prob_current"
   ]
  },
  {
   "cell_type": "code",
   "execution_count": 36,
   "metadata": {},
   "outputs": [
    {
     "name": "stdout",
     "output_type": "stream",
     "text": [
      "Peaks detected: 372\n",
      "Peaks predicted: 162\n",
      "Peaks prob predicted: 162\n",
      "Real detected peaks vs Predicted peaks coincidence: 0.43548387096774194%\n"
     ]
    }
   ],
   "source": [
    "# Mark registry as a peak 1 = true or not 0 = false\n",
    "df['is_peak_prob2'] = 0\n",
    "for i in range(0,len(yhat_prob_current)):\n",
    "    if yhat_prob_current[i][1] >= 0.5:  # % probability to be a peak\n",
    "        df.loc[i,['is_peak_prob2']] = yhat_prob_current[i][1]\n",
    "\n",
    "df['is_peak_prob'] = 0\n",
    "for i in range(0,len(yhat_current)):\n",
    "    df.loc[i,['is_peak_prob']] = yhat_current[i]\n",
    "\n",
    "filter = df['is_peak'] == 1 # check updates\n",
    "num_peaks = len(df[filter])\n",
    "print(\"Peaks detected: \" + str(num_peaks))\n",
    "filter = df['is_peak_prob'] == 1 # check updates\n",
    "num_peaks_prob = len(df[filter])\n",
    "print(\"Peaks predicted: \" + str(num_peaks_prob))\n",
    "filter = df['is_peak_prob2'] >= 0.5 # check updates\n",
    "num_peaks_prob2 = len(df[filter])\n",
    "print(\"Peaks prob predicted: \" + str(num_peaks_prob2))\n",
    "\n",
    "print(\"Real detected peaks vs Predicted peaks coincidence: \" + str(num_peaks_prob/num_peaks) + \"%\")"
   ]
  },
  {
   "cell_type": "code",
   "execution_count": 38,
   "metadata": {},
   "outputs": [
    {
     "name": "stdout",
     "output_type": "stream",
     "text": [
      "Saved file to: /Users/joan/Workspace/python/py-trends-api/merged_search_trends_2021-06-22_111944_peaks_detected_prob.csv\n"
     ]
    }
   ],
   "source": [
    "# 8 Save Dataset into CSV file\n",
    "dateTimeObj = datetime.now()\n",
    "current_date = dateTimeObj.strftime(\"%Y-%m-%d_%H%M%S\")\n",
    "filename = \"merged_search_trends_\" + current_date\n",
    "\n",
    "df.to_csv(directory + filename + \"_peaks_detected_prob.csv\", index = False)\n",
    "print(\"Saved file to: \" + directory + filename + \"_peaks_detected_prob.csv\")"
   ]
  },
  {
   "cell_type": "markdown",
   "metadata": {},
   "source": [
    "## adWords historic peaks comparisson with predicted peaks\n",
    "\n",
    "* Sandra envia dades actualitzades, 40-50% predicció efectiva. Falten més dades de juny.\n"
   ]
  },
  {
   "cell_type": "code",
   "execution_count": null,
   "metadata": {},
   "outputs": [],
   "source": []
  }
 ],
 "metadata": {
  "kernelspec": {
   "display_name": "Python 3",
   "language": "python",
   "name": "python3"
  },
  "language_info": {
   "codemirror_mode": {
    "name": "ipython",
    "version": 3
   },
   "file_extension": ".py",
   "mimetype": "text/x-python",
   "name": "python",
   "nbconvert_exporter": "python",
   "pygments_lexer": "ipython3",
   "version": "3.8.5"
  }
 },
 "nbformat": 4,
 "nbformat_minor": 4
}
